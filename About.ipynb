{
  "nbformat": 4,
  "nbformat_minor": 0,
  "metadata": {
    "colab": {
      "provenance": [],
      "authorship_tag": "ABX9TyN6HbMRcWkXQZQ/1q5i+5Oz",
      "include_colab_link": true
    },
    "kernelspec": {
      "name": "python3",
      "display_name": "Python 3"
    },
    "language_info": {
      "name": "python"
    }
  },
  "cells": [
    {
      "cell_type": "markdown",
      "metadata": {
        "id": "view-in-github",
        "colab_type": "text"
      },
      "source": [
        "<a href=\"https://colab.research.google.com/github/Ramani-Viswanathan/LiftOff/blob/main/About.ipynb\" target=\"_parent\"><img src=\"https://colab.research.google.com/assets/colab-badge.svg\" alt=\"Open In Colab\"/></a>"
      ]
    },
    {
      "cell_type": "markdown",
      "source": [
        "Project : LiftOff\n",
        "Project:LiftOff is a comprehensive program designed to equip aspiring project managers with the necessary skills and knowledge to excel in their roles.\n",
        "Project:LiftOff is an ambitious program designed to empower junior and aspiring project managers with the essential skills and knowledge needed to excel in the world of technical project management.\n",
        "\n",
        "Project:LiftOff is like a meticulously planned launchpad for aspiring project managers. It equips them with the knowledge, tools, and experience needed to navigate the complex world of technical project management, just as a launchpad prepares a rocket for a successful journey into space. This program ensures that participants have a well-rounded skill set and the confidence to excel in their role"
      ],
      "metadata": {
        "id": "qwsctiu_W2Qs"
      }
    }
  ]
}